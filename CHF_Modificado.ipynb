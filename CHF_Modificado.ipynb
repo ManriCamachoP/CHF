{
 "cells": [
  {
   "cell_type": "markdown",
   "id": "cb0b0eee",
   "metadata": {},
   "source": [
    "# Indice CHF (Extensión)\n",
    "\n",
    "## Introducción\n",
    "\n",
    "En este trabajo, nos centramos en la creación de un índice esencial para comprender la climatología de huracanes en las regiones de Costa Rica y Nicaragua: el CHF (Coastal Hurricane Frequency). Esta métrica se basa en la técnica CHF, como se plantea en el artículo de Karthik Balaguru, \"Increased U.S. coastal hurricane risk under climate change\". Sin embargo, es importante destacar que hemos realizado modificaciones significativas en este índice. La versión que empleamos ha sido adaptada y ampliada por Luis Barboza, Shu Wei Chou y Mario Gomez para abordar tanto el impacto directo como el indirecto de los ciclones tropicales en estas regiones.\n",
    "\n",
    "Este índice se encuentra en una fase preliminar y es objeto de constante refinamiento en el marco de esta investigación y tiene la siguiente forma:\n",
    "\n",
    "$$\n",
    "CHF_{m} = \\textrm{Efecto Directo} + \\textrm{Efecto Indirecto}\n",
    "$$\n",
    "\n",
    "$$\n",
    "CHF_{m} = CHF + N_{i} \\frac{l}{TimeStep*v} \\frac{P}{\\overline P_{r}} \\frac{Viento}{\\overline{Viento_{r}}}\n",
    "$$\n",
    "\n",
    "$$\n",
    "CHF_{m} = n\\frac{l}{TimeStep*v} + N_{i} \\frac{l}{TimeStep*v} \\frac{P}{\\overline P_{r}} \\frac{Viento}{\\overline{Viento_{r}}}\n",
    "$$\n",
    "En donde, \n",
    "$$\n",
    "n: \\textrm{es el número de trayectorias de huracanes que pasan a través de un grado cuadrado}\n",
    "$$ \n",
    "$$\n",
    "N_i :\\textrm{Cantidad de Huracanés que no pasan a traves de esa cuadrícula}\n",
    "$$\n",
    "$$\n",
    "l: \\textrm{la longitud de la cuadrícula}\n",
    "$$\n",
    "$$\n",
    "v: \\textrm{la velocidad de traslación}\n",
    "$$\n",
    "$$\n",
    "TimeStep: \\textrm{es el paso de tiempo}\n",
    "$$\n",
    "$$\n",
    "P: \\textrm{Precipitación en esa cuadrícula}\n",
    "$$\n",
    "$$\n",
    "\\overline P_{r}: \\textrm{Precipitación promedio en toda la región}\n",
    "$$\n",
    "$$\n",
    "Viento: \\textrm{ Viento en la cuadrícula }\n",
    "$$\n",
    "$$\n",
    "\\overline {Viento_{r}} : \\textrm {Viento promedio en toda la región}\n",
    "$$\n",
    "\n",
    "\n",
    "## Metodología \n",
    "\n",
    "Se utilizara Python para el análisis de este cuaderno, en donde se utilizaron las siguientes librerias\n",
    "\n",
    "### Librerias\n",
    "\n",
    "-   **NumPy:** Libreria para realizar cálculos numéricos en Python. Es ampliamente utilizada para operaciones matemáticas y de manipulación de datos.\n",
    "\n",
    "-   **Pandas:** Pandas es una biblioteca que proporciona estructuras de datos y herramientas para el análisis de datos. Es especialmente útil para la manipulación y exploración de datos tabulares.\n",
    "\n",
    "-   **GeoPandas:** GeoPandas es una extensión de Pandas que agrega capacidades geoespaciales. Permite trabajar con datos geoespaciales, como GeoDataFrames, y realizar análisis espaciales.\n",
    "\n",
    "-   **OS:** El módulo `os` proporciona funciones para interactuar con el sistema operativo, como la manipulación de rutas de archivos y directorios.\n",
    "\n",
    "-   **Shapely:** Shapely es una biblioteca que se utiliza para el procesamiento y análisis de geometría plana. Permite trabajar con objetos geométricos como puntos, líneas y polígonos.\n",
    "\n",
    "-   **pyogrio:** pyogrio es una biblioteca que se utiliza para leer y escribir datos geoespaciales en formatos como GeoJSON y Shapefile. Facilita la manipulación de datos geoespaciales."
   ]
  },
  {
   "cell_type": "code",
   "execution_count": 3,
   "id": "8e4eece1",
   "metadata": {},
   "outputs": [],
   "source": [
    "import numpy as np\n",
    "import pandas as pd\n",
    "import geopandas as gpd\n",
    "import os \n",
    "import shapely\n",
    "from pyogrio import read_dataframe\n",
    "from shapely.geometry import Polygon, Point|"
   ]
  },
  {
   "cell_type": "markdown",
   "id": "b3c1bc17",
   "metadata": {},
   "source": [
    "## Creación del Indicador CHF\n",
    "\n",
    "En esta sección, llevaremos a cabo la implementación del CHF modificado, abordando tanto el impacto directo como el impacto indirecto, siguiendo la solicitud de los investigadores. Además, exploraremos el índice CHF, que engloba tanto el impacto directo como el indirecto de los ciclones tropicales en la región.\n",
    "\n",
    "Es importante mencionar que, debido a ciertas limitaciones en la obtención de datos de la página de ERA5 (https://cds.climate.copernicus.eu/cdsapp#!/home), así como en la base del HURDAT, habrá años para los cuales no se dispone de información. Sin embargo, estas limitaciones, en su mayoría asociadas a huracanes más antiguos, no deberían tener un impacto significativo en nuestro análisis."
   ]
  },
  {
   "cell_type": "markdown",
   "id": "ce0576e4",
   "metadata": {},
   "source": [
    "### Importación de Bases de Datos\n",
    "\n",
    "En esta etapa, procederemos a importar diversas bases de datos esenciales para nuestro análisis. En primer lugar, incorporaremos la base de datos de Natural Earth (https://www.naturalearthdata.com/downloads/110m-cultural-vectors/110m-admin-0-countries/), que abarca alrededor de 258 países, proporcionando información geográfica clave.\n",
    "\n",
    "Asimismo, importaremos la base de datos del HURDAT, la cual está condicionada a un intervalo de tiempo de 24 horas, y es fundamental para nuestro estudio de huracanes.\n",
    "\n",
    "Finalmente, incorporaremos la base de datos de ERA5, que nos permitirá enriquecer nuestro análisis con información sobre la velocidad de los vientos y la precipitación, añadiendo una dimensión adicional a nuestra investigación."
   ]
  },
  {
   "cell_type": "code",
   "execution_count": 4,
   "id": "66b857b2",
   "metadata": {},
   "outputs": [],
   "source": [
    "paises = read_dataframe(\"Shapefiles/ne_110m_admin_0_countries.shp\")"
   ]
  },
  {
   "cell_type": "code",
   "execution_count": 5,
   "id": "c55e3e54-d920-4162-bac8-20ce3fddcf26",
   "metadata": {},
   "outputs": [],
   "source": [
    "hurdat = pd.read_csv(\"CHF_Balagurù/Datos/hurdat2daily.csv\")"
   ]
  },
  {
   "cell_type": "code",
   "execution_count": 6,
   "id": "2e1f1ef5",
   "metadata": {},
   "outputs": [],
   "source": [
    "precip = pd.read_csv(\"precip.csv\")"
   ]
  },
  {
   "cell_type": "code",
   "execution_count": 7,
   "id": "5b70af9e",
   "metadata": {
    "scrolled": true
   },
   "outputs": [],
   "source": [
    "wind = pd.read_csv(\"wind.csv\")"
   ]
  },
  {
   "cell_type": "markdown",
   "id": "5022e91a",
   "metadata": {},
   "source": [
    "### Filtración y Manipulación de las Bases\n",
    "\n",
    "En esta sección, se aborda el proceso clave de filtrar y ajustar las bases de datos para adaptarlas a los requisitos específicos del estudio. En primer lugar, se limita la base del HURDAT a datos posteriores a 2010, enfocándose exclusivamente en los países de Centroamérica y México para afinar el enfoque geográfico.\n",
    "\n",
    "Posteriormente, se procede con la simplificación de la base de vientos. Se reduce la complejidad de las coordenadas, tomando solo cada unidad de latitud y longitud en lugar de cada decimal. Esta medida facilita la manipulación de la base, permitiendo una extracción más eficiente de patrones significativos para el análisis climatológico."
   ]
  },
  {
   "cell_type": "code",
   "execution_count": 8,
   "id": "20a26561-16fc-4a91-a3e8-3c3542ecd127",
   "metadata": {},
   "outputs": [],
   "source": [
    "paises_interes = [\"Costa Rica\",\"Nicaragua\",\"Belize\",\"Panama\",\"El Salvador\",\"Mexico\",\"Honduras\",\"Guatemala\"]\n",
    "\n",
    "paises = paises[[\"SOVEREIGNT\",\"geometry\"]]\n",
    "paises = paises[paises['SOVEREIGNT'].isin(paises_interes)]"
   ]
  },
  {
   "cell_type": "markdown",
   "id": "29dabb37-b701-4ac9-afc3-66417a95458a",
   "metadata": {},
   "source": [
    "Se guarda la base de datos de paises en formato geojson para su futura implementación en futuros gráficos, para R y Tableau."
   ]
  },
  {
   "cell_type": "code",
   "execution_count": 143,
   "id": "2168e6e6-e4fb-4cd3-89c1-451836bc8461",
   "metadata": {},
   "outputs": [],
   "source": [
    "with open('paises.geojson' , 'w') as file:\n",
    "    file.write(paises.to_json())"
   ]
  },
  {
   "cell_type": "markdown",
   "id": "ccebf0be-afae-4d84-af7c-6755d24d2fe3",
   "metadata": {},
   "source": [
    "Posteriormente de guardar la base de datos de los paises de Centro América en formato geojson, se procede a filtrar la base solo a las fechas en las cuales se presentan los huracanes; así se puede realizar los cálculos adecuadamente. Además se filtra la base de datos del hurdat para 2010 en adelante para no tener una base tan extensa y para no calcular erroneamente las frecuencias de los huracanes por cuadrícula."
   ]
  },
  {
   "cell_type": "code",
   "execution_count": 9,
   "id": "e0458b9e-74ff-44a5-b754-790e494c6c7f",
   "metadata": {},
   "outputs": [],
   "source": [
    "wind = wind[wind['Time'].isin(hurdat['dat'])]"
   ]
  },
  {
   "cell_type": "code",
   "execution_count": 10,
   "id": "506ec731-b8ea-461b-a656-be0bbe65ec33",
   "metadata": {
    "editable": true,
    "slideshow": {
     "slide_type": ""
    },
    "tags": []
   },
   "outputs": [],
   "source": [
    "precip = precip[precip['Time'].isin(hurdat['dat'])]"
   ]
  },
  {
   "cell_type": "code",
   "execution_count": 81,
   "id": "65220f4e-b8d6-49b4-b963-e0c48d249eab",
   "metadata": {},
   "outputs": [],
   "source": [
    "hurdat[[\"year\",\"month\",\"day\"]] = hurdat[\"dat\"].str.split('-',expand=True) #Separamos la fecha\n",
    "hurdat = hurdat.astype({'year':'int'})\n",
    "\n",
    "hurdat = hurdat[hurdat['year']>=2010]"
   ]
  },
  {
   "cell_type": "markdown",
   "id": "1462b5d3-96fc-4ff9-9785-54618ce203af",
   "metadata": {},
   "source": [
    "Seguidamente de filtrar la base en las fechas correctas, se procede a delimitar la base de datos del Hurdat, Precipitación y Viento, para poder tener los limites de las coordenadas correctas."
   ]
  },
  {
   "cell_type": "code",
   "execution_count": 11,
   "id": "923e998d",
   "metadata": {},
   "outputs": [],
   "source": [
    "minx, miny, maxx, maxy = paises.total_bounds #Limites de los paises"
   ]
  },
  {
   "cell_type": "code",
   "execution_count": 82,
   "id": "773287bc",
   "metadata": {},
   "outputs": [],
   "source": [
    "#Delimitamos la zona de la base de HurDat para las zonas a analizar\n",
    "\n",
    "huracanes = hurdat[((hurdat[\"Lon\"]<= maxx)&\n",
    "                            (hurdat[\"Lon\"]>= minx))&\n",
    "                            ((hurdat[\"Lat\"]<= maxy)&\n",
    "                            (hurdat[\"Lat\"]>= miny))] #Delimitación de la zona\n",
    "\n",
    "#Se convierte la base de huracanes en formato GeoDataFrame\n",
    "huracanes = gpd.GeoDataFrame(huracanes,\n",
    "                                geometry=gpd.points_from_xy(huracanes.Lon, huracanes.Lat), \n",
    "                                crs=\"EPSG:4326\") #Base del Hurdat con formato geoespacial\n",
    "\n",
    "#Filtramos la base de huracanes para reducir espacio a las variables necesarias para el cálculo del CHF\n",
    "huracanes = huracanes[['Name','MaxW','geometry']]"
   ]
  },
  {
   "cell_type": "code",
   "execution_count": 13,
   "id": "b52f8a86",
   "metadata": {},
   "outputs": [],
   "source": [
    "#Delimitamos la zona de la base de precipitación para las zonas a analizar\n",
    "\n",
    "precipitacion = precip[((precip[\"Longitude\"] <= maxx)&\n",
    "                       (precip[\"Longitude\"] >= minx))&\n",
    "                      ((precip[\"Latitude\"] <= maxy)&\n",
    "                      (precip[\"Latitude\"] >= miny))] #Delimitación de la zona"
   ]
  },
  {
   "cell_type": "code",
   "execution_count": 14,
   "id": "dda2b56e-86c1-4be8-af95-73524c0329ab",
   "metadata": {},
   "outputs": [],
   "source": [
    "#Se convierte la base de precipitación en formato GeoDataFrame\n",
    "\n",
    "precipitacion = gpd.GeoDataFrame(precipitacion,\n",
    "                                geometry=gpd.points_from_xy(precipitacion.Longitude, precipitacion.Latitude), \n",
    "                                crs=\"EPSG:4326\") #Base del Hurdat con formato geoespacial\n",
    "\n",
    "#Filtramos la base de precipitación para reducir espacio a las variables necesarias para el cálculo del CHF\n",
    "precipitacion = precipitacion[['Precipitation','geometry']]"
   ]
  },
  {
   "cell_type": "code",
   "execution_count": 17,
   "id": "21c0c865",
   "metadata": {},
   "outputs": [],
   "source": [
    "#Delimitamos la zona de la base de precipitación para las zonas a analizar\n",
    "\n",
    "wind = wind[((wind[\"Longitude\"] <= maxx)&\n",
    "                       (wind[\"Longitude\"] >= minx))&\n",
    "                      ((wind[\"Latitude\"] <= maxy)&\n",
    "                      (wind[\"Latitude\"] >= miny))] #Delimitación de la zona"
   ]
  },
  {
   "cell_type": "markdown",
   "id": "5e96d6e7-42f4-4b4d-855d-965a285a9557",
   "metadata": {},
   "source": [
    "**Nota sobre la Depuración de la Base de Datos**\n",
    "\n",
    "Durante el proceso de análisis de la base de datos, se identificó un desafío en la comparación de valores en la columna 'Latitude'. La gran cantidad de datos en la base puede afectar la precisión de las operaciones numéricas, especialmente al tratar con valores de punto flotante.\n",
    "\n",
    "El enfoque final utilizado implica la conversión de la columna 'Latitude' a cadena y la verificación de la presencia de \".0\" en la cadena. Esto permite mantener las filas donde 'Latitude' es esencialmente un número entero, independientemente de su representación exacta como decimal.\n",
    "\n",
    "Es importante destacar que este proceso de depuración se llevó a cabo para garantizar resultados precisos y confiables en el análisis de los datos.\n"
   ]
  },
  {
   "cell_type": "code",
   "execution_count": 20,
   "id": "c97baeab-68d6-41a7-aaa9-20744019cb7a",
   "metadata": {},
   "outputs": [],
   "source": [
    "wind = wind[wind['Latitude'].astype(str).str.contains(\"\\.0\")]"
   ]
  },
  {
   "cell_type": "code",
   "execution_count": 21,
   "id": "141730f9-7a20-4583-8b4e-834b352008e7",
   "metadata": {},
   "outputs": [],
   "source": [
    "wind = wind[wind['Longitude'].astype(str).str.contains(\"\\.0\")]"
   ]
  },
  {
   "cell_type": "code",
   "execution_count": 24,
   "id": "17d3b61c-0897-4169-b605-7bd3adc086cd",
   "metadata": {},
   "outputs": [],
   "source": [
    "#Se convierte la base de viento en formato GeoDataFrame\n",
    "\n",
    "wind = gpd.GeoDataFrame(wind,\n",
    "                        geometry=gpd.points_from_xy(wind.Longitude, wind.Latitude), \n",
    "                                crs=\"EPSG:4326\") #Base del Hurdat con formato geoespacial"
   ]
  },
  {
   "cell_type": "code",
   "execution_count": 26,
   "id": "e139f74f-5047-4262-9338-5e0e883f8cde",
   "metadata": {},
   "outputs": [],
   "source": [
    "#Filtramos la base de viento para reducir espacio a las variables necesarias para el cálculo del CHF\n",
    "wind = wind[['Precipitation','geometry']] \n",
    "\n",
    "\n",
    "wind.rename({'Precipitation':'Wind'},axis=1,inplace=True) # Se renombra la columna ya que en el otro ipynb no se puso el nombre correcto"
   ]
  },
  {
   "cell_type": "markdown",
   "id": "18faf10b",
   "metadata": {},
   "source": [
    "## Creación del Indicador CHF: Version Antigua y Versiones Nuevas\n",
    "\n",
    "En esta sección, se detalla el proceso de creación del indicador CHF, abarcando tanto su versión original propuesta por Balaguru como la nueva implementación ajustada para adaptarse a las particularidades de la base de datos del HURDAT y a los requisitos específicos de la investigación.\n",
    "\n",
    "Primero, se describe la metodología empleada para calcular el CHF original propuesto por Balaguru, destacando las variables clave y la fórmula utilizada. A continuación, se presenta la nueva versión del CHF, que incorpora ajustes necesarios para garantizar su aplicabilidad a la base de datos del HURDAT y considera las condiciones geográficas de la región de estudio.\n",
    "\n",
    "Es importante señalar que, durante el proceso de implementación del CHF en su versión ajustada, se identificó una inconsistencia en la fórmula que calcula la velocidad en el efecto indirecto. Con el objetivo de abordar esta irregularidad, se propuso un nuevo CHF extra. Cabe mencionar que este nuevo enfoque debe ser revisado por los investigadores antes de su aplicación, ya que su validez y coherencia son fundamentales para los resultados obtenidos."
   ]
  },
  {
   "cell_type": "markdown",
   "id": "a42240c5-637f-421f-a89e-8032592b8dfb",
   "metadata": {},
   "source": [
    "### Primera Parte\n",
    "Primero se crean las cuadrículas utilizadas en el CHF propuesto por Balagurù, estas son de un grado cuadrado"
   ]
  },
  {
   "cell_type": "code",
   "execution_count": 28,
   "id": "4ea868e1",
   "metadata": {},
   "outputs": [
    {
     "data": {
      "text/plain": [
       "[<POLYGON ((-117.128 7.221, -116.128 7.221, -116.128 8.221, -117.128 8.221, -...>,\n",
       " <POLYGON ((-117.128 8.221, -116.128 8.221, -116.128 9.221, -117.128 9.221, -...>,\n",
       " <POLYGON ((-117.128 9.221, -116.128 9.221, -116.128 10.221, -117.128 10.221,...>,\n",
       " <POLYGON ((-117.128 10.221, -116.128 10.221, -116.128 11.221, -117.128 11.22...>,\n",
       " <POLYGON ((-117.128 11.221, -116.128 11.221, -116.128 12.221, -117.128 12.22...>]"
      ]
     },
     "execution_count": 28,
     "metadata": {},
     "output_type": "execute_result"
    }
   ],
   "source": [
    "grado_cuad = 1 #Grado cuadrado = metro cuadrado\n",
    "\n",
    "x_coords = np.arange(minx, maxx, grado_cuad)\n",
    "y_coords = np.arange(miny, maxy, grado_cuad)\n",
    "\n",
    "celdas = [] #Lista donde guardaremos las coordenadas de las celdas\n",
    "\n",
    "for x in x_coords:\n",
    "    for y in y_coords:\n",
    "        poligono = Polygon([(x, y), \n",
    "        (x + grado_cuad, y), \n",
    "        (x + grado_cuad, y + grado_cuad), \n",
    "        (x, y + grado_cuad)])\n",
    "        celdas.append(poligono)\n",
    "        \n",
    "celdas[:5] #Se muestra solo los primeros 5 resultados"
   ]
  },
  {
   "cell_type": "markdown",
   "id": "be68eca6-1425-452c-a165-8640a16a08a5",
   "metadata": {},
   "source": [
    "Seguidamente se prosigue a crear el GeoDataFrame en donde se van a guardar las variables de interes, debido a que algunos cálculos posteriores toman mucho tiempo dentro de esta base solo se van a agregar las variables que se utilizan para calcular el CHF. Posteriormente se creara una base en la cual si se hace los cálculos del CHF."
   ]
  },
  {
   "cell_type": "code",
   "execution_count": 121,
   "id": "aa001d1f",
   "metadata": {},
   "outputs": [],
   "source": [
    "grid_gdf = gpd.GeoDataFrame({'geometry': celdas}, \n",
    "                            crs=paises.crs)"
   ]
  },
  {
   "cell_type": "code",
   "execution_count": 122,
   "id": "9cf4fce0",
   "metadata": {},
   "outputs": [
    {
     "name": "stderr",
     "output_type": "stream",
     "text": [
      "/Users/manriquecamacho/anaconda3/lib/python3.11/site-packages/geopandas/geoseries.py:574: FutureWarning: the convert_dtype parameter is deprecated and will be removed in a future version.  Do ``ser.astype(object).apply()`` instead if you want ``convert_dtype=False``.\n",
      "  result = super().apply(func, convert_dtype=convert_dtype, args=args, **kwargs)\n"
     ]
    }
   ],
   "source": [
    "# Calcular la frecuencia de huracanes en cada cuadrícula\n",
    "\n",
    "grid_gdf['frecuencia_h'] = grid_gdf['geometry'].apply(lambda geom: len(huracanes[huracanes.within(geom)]))"
   ]
  },
  {
   "cell_type": "code",
   "execution_count": 123,
   "id": "51c79321",
   "metadata": {},
   "outputs": [
    {
     "name": "stderr",
     "output_type": "stream",
     "text": [
      "/Users/manriquecamacho/anaconda3/lib/python3.11/site-packages/geopandas/geoseries.py:574: FutureWarning: the convert_dtype parameter is deprecated and will be removed in a future version.  Do ``ser.astype(object).apply()`` instead if you want ``convert_dtype=False``.\n",
      "  result = super().apply(func, convert_dtype=convert_dtype, args=args, **kwargs)\n"
     ]
    }
   ],
   "source": [
    "# Calcular el promedio de velocidad de huracanes en cada cuadrícula\n",
    "\n",
    "grid_gdf['velocidad_promedio'] = grid_gdf['geometry'].apply(lambda geom: huracanes[huracanes.within(geom)]['MaxW'].mean())"
   ]
  },
  {
   "cell_type": "code",
   "execution_count": 124,
   "id": "2c7ef5d6",
   "metadata": {},
   "outputs": [
    {
     "name": "stderr",
     "output_type": "stream",
     "text": [
      "/Users/manriquecamacho/anaconda3/lib/python3.11/site-packages/geopandas/geoseries.py:574: FutureWarning: the convert_dtype parameter is deprecated and will be removed in a future version.  Do ``ser.astype(object).apply()`` instead if you want ``convert_dtype=False``.\n",
      "  result = super().apply(func, convert_dtype=convert_dtype, args=args, **kwargs)\n"
     ]
    }
   ],
   "source": [
    "# Calcular la frecuencia de huracanes en cada cuadrícula que no pasa por ahí, N_i\n",
    "\n",
    "grid_gdf['frecuencia_ni'] = grid_gdf['geometry'].apply(lambda geom: len(huracanes[~huracanes.within(geom)]))"
   ]
  },
  {
   "cell_type": "code",
   "execution_count": 125,
   "id": "640ded45",
   "metadata": {},
   "outputs": [
    {
     "name": "stderr",
     "output_type": "stream",
     "text": [
      "/Users/manriquecamacho/anaconda3/lib/python3.11/site-packages/geopandas/geoseries.py:574: FutureWarning: the convert_dtype parameter is deprecated and will be removed in a future version.  Do ``ser.astype(object).apply()`` instead if you want ``convert_dtype=False``.\n",
      "  result = super().apply(func, convert_dtype=convert_dtype, args=args, **kwargs)\n"
     ]
    }
   ],
   "source": [
    "# Calcular la precipitacion en la cuadricula entre la promedio\n",
    "\n",
    "grid_gdf['Precipitacion'] = grid_gdf['geometry'].apply(lambda geom: \n",
    "                                                       precipitacion[precipitacion.within(geom)]['Precipitation'].mean()/ precipitacion['Precipitation'].mean())"
   ]
  },
  {
   "cell_type": "code",
   "execution_count": 126,
   "id": "f116a123",
   "metadata": {},
   "outputs": [
    {
     "name": "stderr",
     "output_type": "stream",
     "text": [
      "/Users/manriquecamacho/anaconda3/lib/python3.11/site-packages/geopandas/geoseries.py:574: FutureWarning: the convert_dtype parameter is deprecated and will be removed in a future version.  Do ``ser.astype(object).apply()`` instead if you want ``convert_dtype=False``.\n",
      "  result = super().apply(func, convert_dtype=convert_dtype, args=args, **kwargs)\n"
     ]
    }
   ],
   "source": [
    "# Calcular el Viento en la cuadricula entre el promedio del viento\n",
    "\n",
    "grid_gdf['Wind'] = grid_gdf['geometry'].apply(lambda geom: \n",
    "                                                       wind[wind.within(geom)]['Wind'].mean()/ wind['Wind'].mean())"
   ]
  },
  {
   "cell_type": "code",
   "execution_count": 127,
   "id": "fd43c054-fa8e-4ef4-ae40-dfc43fb9757c",
   "metadata": {},
   "outputs": [
    {
     "name": "stderr",
     "output_type": "stream",
     "text": [
      "/Users/manriquecamacho/anaconda3/lib/python3.11/site-packages/geopandas/geoseries.py:574: FutureWarning: the convert_dtype parameter is deprecated and will be removed in a future version.  Do ``ser.astype(object).apply()`` instead if you want ``convert_dtype=False``.\n",
      "  result = super().apply(func, convert_dtype=convert_dtype, args=args, **kwargs)\n"
     ]
    }
   ],
   "source": [
    "# Calcular la Velocidad promedio pero sin contar esa cuadrícula, por decirlo de otra manera es como calcular la velocidad que tiene el\n",
    "# CHF pero la inversa puesto que estamos calculando la frecuencia de los huracanes que no pasan por la cuadricula entonces seria logico\n",
    "# Calcular la velocidad promedio de los huracanes que no pasan por la cuadricula. De otra manera el indice da muy alto, posteriormente\n",
    "# Se aprecia el indice sin el uso de esta variable\n",
    "\n",
    "grid_gdf['Velocidad_promedio_NC'] = grid_gdf['geometry'].apply(lambda geom: huracanes[~huracanes.within(geom)]['MaxW'].mean())"
   ]
  },
  {
   "cell_type": "markdown",
   "id": "60250acf-da89-43cf-bb61-a62a07709748",
   "metadata": {},
   "source": [
    "Posteriormente de la creación de la base de datos solo con coordenadas y las variables de interes para el cálculo de los CHF, hacemos un preview de la data para observar cuales variables tenemos y posterior a eso se guarda la base en formato csv y geopandas."
   ]
  },
  {
   "cell_type": "code",
   "execution_count": 131,
   "id": "d5fa86ea-b20f-402f-bc42-f99b9523a5e4",
   "metadata": {},
   "outputs": [
    {
     "data": {
      "text/html": [
       "<div>\n",
       "<style scoped>\n",
       "    .dataframe tbody tr th:only-of-type {\n",
       "        vertical-align: middle;\n",
       "    }\n",
       "\n",
       "    .dataframe tbody tr th {\n",
       "        vertical-align: top;\n",
       "    }\n",
       "\n",
       "    .dataframe thead th {\n",
       "        text-align: right;\n",
       "    }\n",
       "</style>\n",
       "<table border=\"1\" class=\"dataframe\">\n",
       "  <thead>\n",
       "    <tr style=\"text-align: right;\">\n",
       "      <th></th>\n",
       "      <th>geometry</th>\n",
       "      <th>frecuencia_h</th>\n",
       "      <th>velocidad_promedio</th>\n",
       "      <th>Precipitacion</th>\n",
       "      <th>frecuencia_ni</th>\n",
       "      <th>Wind</th>\n",
       "      <th>Velocidad_promedio_NC</th>\n",
       "    </tr>\n",
       "  </thead>\n",
       "  <tbody>\n",
       "    <tr>\n",
       "      <th>1035</th>\n",
       "      <td>POLYGON ((-78.12776 28.22054, -77.12776 28.220...</td>\n",
       "      <td>2</td>\n",
       "      <td>47.900000</td>\n",
       "      <td>NaN</td>\n",
       "      <td>409</td>\n",
       "      <td>1.136180</td>\n",
       "      <td>45.129584</td>\n",
       "    </tr>\n",
       "    <tr>\n",
       "      <th>1036</th>\n",
       "      <td>POLYGON ((-78.12776 29.22054, -77.12776 29.220...</td>\n",
       "      <td>2</td>\n",
       "      <td>26.300000</td>\n",
       "      <td>NaN</td>\n",
       "      <td>409</td>\n",
       "      <td>NaN</td>\n",
       "      <td>45.235208</td>\n",
       "    </tr>\n",
       "    <tr>\n",
       "      <th>1037</th>\n",
       "      <td>POLYGON ((-78.12776 30.22054, -77.12776 30.220...</td>\n",
       "      <td>3</td>\n",
       "      <td>31.666667</td>\n",
       "      <td>NaN</td>\n",
       "      <td>408</td>\n",
       "      <td>0.546354</td>\n",
       "      <td>45.242157</td>\n",
       "    </tr>\n",
       "    <tr>\n",
       "      <th>1038</th>\n",
       "      <td>POLYGON ((-78.12776 31.22054, -77.12776 31.220...</td>\n",
       "      <td>6</td>\n",
       "      <td>36.450000</td>\n",
       "      <td>NaN</td>\n",
       "      <td>405</td>\n",
       "      <td>0.630720</td>\n",
       "      <td>45.271852</td>\n",
       "    </tr>\n",
       "    <tr>\n",
       "      <th>1039</th>\n",
       "      <td>POLYGON ((-78.12776 32.22054, -77.12776 32.220...</td>\n",
       "      <td>0</td>\n",
       "      <td>NaN</td>\n",
       "      <td>NaN</td>\n",
       "      <td>411</td>\n",
       "      <td>NaN</td>\n",
       "      <td>45.143066</td>\n",
       "    </tr>\n",
       "  </tbody>\n",
       "</table>\n",
       "</div>"
      ],
      "text/plain": [
       "                                               geometry  frecuencia_h  \\\n",
       "1035  POLYGON ((-78.12776 28.22054, -77.12776 28.220...             2   \n",
       "1036  POLYGON ((-78.12776 29.22054, -77.12776 29.220...             2   \n",
       "1037  POLYGON ((-78.12776 30.22054, -77.12776 30.220...             3   \n",
       "1038  POLYGON ((-78.12776 31.22054, -77.12776 31.220...             6   \n",
       "1039  POLYGON ((-78.12776 32.22054, -77.12776 32.220...             0   \n",
       "\n",
       "      velocidad_promedio  Precipitacion  frecuencia_ni      Wind  \\\n",
       "1035           47.900000            NaN            409  1.136180   \n",
       "1036           26.300000            NaN            409       NaN   \n",
       "1037           31.666667            NaN            408  0.546354   \n",
       "1038           36.450000            NaN            405  0.630720   \n",
       "1039                 NaN            NaN            411       NaN   \n",
       "\n",
       "      Velocidad_promedio_NC  \n",
       "1035              45.129584  \n",
       "1036              45.235208  \n",
       "1037              45.242157  \n",
       "1038              45.271852  \n",
       "1039              45.143066  "
      ]
     },
     "execution_count": 131,
     "metadata": {},
     "output_type": "execute_result"
    }
   ],
   "source": [
    "grid_gdf.tail() #Preview de la base"
   ]
  },
  {
   "cell_type": "code",
   "execution_count": 132,
   "id": "9e91362e-acda-43ea-85e5-bb5162d6832a",
   "metadata": {},
   "outputs": [],
   "source": [
    "#Guardar en formato csv\n",
    "\n",
    "grid_gdf.to_csv(\"Base_variables_CHF.csv\") \n",
    "\n",
    "#Guardar en formato geojson\n",
    "\n",
    "with open('Base_variables_CHF.geojson' , 'w') as file:\n",
    "    file.write(grid_gdf.to_json())"
   ]
  },
  {
   "cell_type": "markdown",
   "id": "bff7adc4-d8f6-4ce7-9694-8aef86cf23ee",
   "metadata": {},
   "source": [
    "### Segunda Parte\n",
    "\n",
    "Dentro de esta sub-sección de procede a crear ya los indices CHF, tanto los nuevos como los viejos. Además se observara la incosistencia que tiene el CHF nuevo propuesto por los investigadores."
   ]
  },
  {
   "cell_type": "code",
   "execution_count": 133,
   "id": "1f420ead",
   "metadata": {},
   "outputs": [],
   "source": [
    "CHF = grid_gdf.copy() #Creamos una copia de la base anterior para hacer los cálculos\n",
    "\n",
    "CHF['Indicador_CHF'] = CHF['frecuencia_h']/(CHF['velocidad_promedio']*24) #Cálculo del CHF viejo\n",
    "\n",
    "CHF['Indicador_CHF'] = CHF['Indicador_CHF'].fillna(0) #Inputamos 0 en el indicador CHF los cuales tienen NAN para futuros calculos."
   ]
  },
  {
   "cell_type": "code",
   "execution_count": 135,
   "id": "703715e4-3ddd-4dc2-983e-6570cf68d99b",
   "metadata": {},
   "outputs": [
    {
     "data": {
      "text/html": [
       "<div>\n",
       "<style scoped>\n",
       "    .dataframe tbody tr th:only-of-type {\n",
       "        vertical-align: middle;\n",
       "    }\n",
       "\n",
       "    .dataframe tbody tr th {\n",
       "        vertical-align: top;\n",
       "    }\n",
       "\n",
       "    .dataframe thead th {\n",
       "        text-align: right;\n",
       "    }\n",
       "</style>\n",
       "<table border=\"1\" class=\"dataframe\">\n",
       "  <thead>\n",
       "    <tr style=\"text-align: right;\">\n",
       "      <th></th>\n",
       "      <th>geometry</th>\n",
       "      <th>frecuencia_h</th>\n",
       "      <th>velocidad_promedio</th>\n",
       "      <th>Precipitacion</th>\n",
       "      <th>frecuencia_ni</th>\n",
       "      <th>Wind</th>\n",
       "      <th>Velocidad_promedio_NC</th>\n",
       "      <th>Indicador_CHF</th>\n",
       "    </tr>\n",
       "  </thead>\n",
       "  <tbody>\n",
       "    <tr>\n",
       "      <th>1035</th>\n",
       "      <td>POLYGON ((-78.12776 28.22054, -77.12776 28.220...</td>\n",
       "      <td>2</td>\n",
       "      <td>47.900000</td>\n",
       "      <td>NaN</td>\n",
       "      <td>409</td>\n",
       "      <td>1.136180</td>\n",
       "      <td>45.129584</td>\n",
       "      <td>0.001740</td>\n",
       "    </tr>\n",
       "    <tr>\n",
       "      <th>1036</th>\n",
       "      <td>POLYGON ((-78.12776 29.22054, -77.12776 29.220...</td>\n",
       "      <td>2</td>\n",
       "      <td>26.300000</td>\n",
       "      <td>NaN</td>\n",
       "      <td>409</td>\n",
       "      <td>NaN</td>\n",
       "      <td>45.235208</td>\n",
       "      <td>0.003169</td>\n",
       "    </tr>\n",
       "    <tr>\n",
       "      <th>1037</th>\n",
       "      <td>POLYGON ((-78.12776 30.22054, -77.12776 30.220...</td>\n",
       "      <td>3</td>\n",
       "      <td>31.666667</td>\n",
       "      <td>NaN</td>\n",
       "      <td>408</td>\n",
       "      <td>0.546354</td>\n",
       "      <td>45.242157</td>\n",
       "      <td>0.003947</td>\n",
       "    </tr>\n",
       "    <tr>\n",
       "      <th>1038</th>\n",
       "      <td>POLYGON ((-78.12776 31.22054, -77.12776 31.220...</td>\n",
       "      <td>6</td>\n",
       "      <td>36.450000</td>\n",
       "      <td>NaN</td>\n",
       "      <td>405</td>\n",
       "      <td>0.630720</td>\n",
       "      <td>45.271852</td>\n",
       "      <td>0.006859</td>\n",
       "    </tr>\n",
       "    <tr>\n",
       "      <th>1039</th>\n",
       "      <td>POLYGON ((-78.12776 32.22054, -77.12776 32.220...</td>\n",
       "      <td>0</td>\n",
       "      <td>NaN</td>\n",
       "      <td>NaN</td>\n",
       "      <td>411</td>\n",
       "      <td>NaN</td>\n",
       "      <td>45.143066</td>\n",
       "      <td>0.000000</td>\n",
       "    </tr>\n",
       "  </tbody>\n",
       "</table>\n",
       "</div>"
      ],
      "text/plain": [
       "                                               geometry  frecuencia_h  \\\n",
       "1035  POLYGON ((-78.12776 28.22054, -77.12776 28.220...             2   \n",
       "1036  POLYGON ((-78.12776 29.22054, -77.12776 29.220...             2   \n",
       "1037  POLYGON ((-78.12776 30.22054, -77.12776 30.220...             3   \n",
       "1038  POLYGON ((-78.12776 31.22054, -77.12776 31.220...             6   \n",
       "1039  POLYGON ((-78.12776 32.22054, -77.12776 32.220...             0   \n",
       "\n",
       "      velocidad_promedio  Precipitacion  frecuencia_ni      Wind  \\\n",
       "1035           47.900000            NaN            409  1.136180   \n",
       "1036           26.300000            NaN            409       NaN   \n",
       "1037           31.666667            NaN            408  0.546354   \n",
       "1038           36.450000            NaN            405  0.630720   \n",
       "1039                 NaN            NaN            411       NaN   \n",
       "\n",
       "      Velocidad_promedio_NC  Indicador_CHF  \n",
       "1035              45.129584       0.001740  \n",
       "1036              45.235208       0.003169  \n",
       "1037              45.242157       0.003947  \n",
       "1038              45.271852       0.006859  \n",
       "1039              45.143066       0.000000  "
      ]
     },
     "execution_count": 135,
     "metadata": {},
     "output_type": "execute_result"
    }
   ],
   "source": [
    "CHF.tail() #Preview de la base CHF"
   ]
  },
  {
   "cell_type": "code",
   "execution_count": 136,
   "id": "18dd0481-bc42-4b62-b0c1-87f66a3aa87f",
   "metadata": {},
   "outputs": [],
   "source": [
    "#Creación del Indicador modificado, con el efecto indirecto (hecho por los investigadores)\n",
    "\n",
    "CHF['Indicador_CHF_Mod'] = CHF['Indicador_CHF'] + (CHF['frecuencia_ni']/ (CHF['velocidad_promedio']*24))*CHF['Precipitacion']*CHF['Wind']"
   ]
  },
  {
   "cell_type": "code",
   "execution_count": 137,
   "id": "32b20450-fc42-4f2b-9a90-08129281040a",
   "metadata": {},
   "outputs": [
    {
     "data": {
      "text/html": [
       "<div>\n",
       "<style scoped>\n",
       "    .dataframe tbody tr th:only-of-type {\n",
       "        vertical-align: middle;\n",
       "    }\n",
       "\n",
       "    .dataframe tbody tr th {\n",
       "        vertical-align: top;\n",
       "    }\n",
       "\n",
       "    .dataframe thead th {\n",
       "        text-align: right;\n",
       "    }\n",
       "</style>\n",
       "<table border=\"1\" class=\"dataframe\">\n",
       "  <thead>\n",
       "    <tr style=\"text-align: right;\">\n",
       "      <th></th>\n",
       "      <th>geometry</th>\n",
       "      <th>frecuencia_h</th>\n",
       "      <th>velocidad_promedio</th>\n",
       "      <th>Precipitacion</th>\n",
       "      <th>frecuencia_ni</th>\n",
       "      <th>Wind</th>\n",
       "      <th>Velocidad_promedio_NC</th>\n",
       "      <th>Indicador_CHF</th>\n",
       "      <th>Indicador_CHF_Mod</th>\n",
       "    </tr>\n",
       "  </thead>\n",
       "  <tbody>\n",
       "    <tr>\n",
       "      <th>1035</th>\n",
       "      <td>POLYGON ((-78.12776 28.22054, -77.12776 28.220...</td>\n",
       "      <td>2</td>\n",
       "      <td>47.900000</td>\n",
       "      <td>NaN</td>\n",
       "      <td>409</td>\n",
       "      <td>1.136180</td>\n",
       "      <td>45.129584</td>\n",
       "      <td>0.001740</td>\n",
       "      <td>NaN</td>\n",
       "    </tr>\n",
       "    <tr>\n",
       "      <th>1036</th>\n",
       "      <td>POLYGON ((-78.12776 29.22054, -77.12776 29.220...</td>\n",
       "      <td>2</td>\n",
       "      <td>26.300000</td>\n",
       "      <td>NaN</td>\n",
       "      <td>409</td>\n",
       "      <td>NaN</td>\n",
       "      <td>45.235208</td>\n",
       "      <td>0.003169</td>\n",
       "      <td>NaN</td>\n",
       "    </tr>\n",
       "    <tr>\n",
       "      <th>1037</th>\n",
       "      <td>POLYGON ((-78.12776 30.22054, -77.12776 30.220...</td>\n",
       "      <td>3</td>\n",
       "      <td>31.666667</td>\n",
       "      <td>NaN</td>\n",
       "      <td>408</td>\n",
       "      <td>0.546354</td>\n",
       "      <td>45.242157</td>\n",
       "      <td>0.003947</td>\n",
       "      <td>NaN</td>\n",
       "    </tr>\n",
       "    <tr>\n",
       "      <th>1038</th>\n",
       "      <td>POLYGON ((-78.12776 31.22054, -77.12776 31.220...</td>\n",
       "      <td>6</td>\n",
       "      <td>36.450000</td>\n",
       "      <td>NaN</td>\n",
       "      <td>405</td>\n",
       "      <td>0.630720</td>\n",
       "      <td>45.271852</td>\n",
       "      <td>0.006859</td>\n",
       "      <td>NaN</td>\n",
       "    </tr>\n",
       "    <tr>\n",
       "      <th>1039</th>\n",
       "      <td>POLYGON ((-78.12776 32.22054, -77.12776 32.220...</td>\n",
       "      <td>0</td>\n",
       "      <td>NaN</td>\n",
       "      <td>NaN</td>\n",
       "      <td>411</td>\n",
       "      <td>NaN</td>\n",
       "      <td>45.143066</td>\n",
       "      <td>0.000000</td>\n",
       "      <td>NaN</td>\n",
       "    </tr>\n",
       "  </tbody>\n",
       "</table>\n",
       "</div>"
      ],
      "text/plain": [
       "                                               geometry  frecuencia_h  \\\n",
       "1035  POLYGON ((-78.12776 28.22054, -77.12776 28.220...             2   \n",
       "1036  POLYGON ((-78.12776 29.22054, -77.12776 29.220...             2   \n",
       "1037  POLYGON ((-78.12776 30.22054, -77.12776 30.220...             3   \n",
       "1038  POLYGON ((-78.12776 31.22054, -77.12776 31.220...             6   \n",
       "1039  POLYGON ((-78.12776 32.22054, -77.12776 32.220...             0   \n",
       "\n",
       "      velocidad_promedio  Precipitacion  frecuencia_ni      Wind  \\\n",
       "1035           47.900000            NaN            409  1.136180   \n",
       "1036           26.300000            NaN            409       NaN   \n",
       "1037           31.666667            NaN            408  0.546354   \n",
       "1038           36.450000            NaN            405  0.630720   \n",
       "1039                 NaN            NaN            411       NaN   \n",
       "\n",
       "      Velocidad_promedio_NC  Indicador_CHF  Indicador_CHF_Mod  \n",
       "1035              45.129584       0.001740                NaN  \n",
       "1036              45.235208       0.003169                NaN  \n",
       "1037              45.242157       0.003947                NaN  \n",
       "1038              45.271852       0.006859                NaN  \n",
       "1039              45.143066       0.000000                NaN  "
      ]
     },
     "execution_count": 137,
     "metadata": {},
     "output_type": "execute_result"
    }
   ],
   "source": [
    "CHF.tail()"
   ]
  },
  {
   "cell_type": "markdown",
   "id": "3eaa18b6-756e-4489-9125-835979c3d816",
   "metadata": {},
   "source": [
    "**Nota:** Hay un problema en el cálculo del CHF modificado en la parte del efecto indirecto. Esto se debe a que el efecto indirecto se mide en la cuadricula con la velocidad de traslación del huracan que pasa por dicha cuadrícula pero creo que debería ser esa v, la velocidad de traslación promedio de los demás huracánes sin esa cuadrícula. CONSULTAR EN LA PROXIMA REUNION"
   ]
  },
  {
   "cell_type": "markdown",
   "id": "ba6b2172-e7b5-41bc-a8ac-e23341eeb622",
   "metadata": {},
   "source": [
    "Si se hace lo planteado de mi parte el CHF_modificado quedaría de la siguiente manera. "
   ]
  },
  {
   "cell_type": "code",
   "execution_count": 138,
   "id": "28c77fb1-cedb-4245-a952-322188323a05",
   "metadata": {},
   "outputs": [],
   "source": [
    "#Creación del Indicador modificado propuesto por mi persona, con el efecto indirecto \n",
    "\n",
    "CHF['Indicador_CHF_Mod2'] = CHF['Indicador_CHF'] + (CHF['frecuencia_ni']/ (CHF['Velocidad_promedio_NC']*24))*CHF['Precipitacion']*CHF['Wind']"
   ]
  },
  {
   "cell_type": "code",
   "execution_count": 141,
   "id": "6a608672-ded1-4611-b5de-55afcdf141db",
   "metadata": {},
   "outputs": [],
   "source": [
    "CHF = CHF[['geometry','Indicador_CHF','Indicador_CHF_Mod','Indicador_CHF_Mod2']]"
   ]
  },
  {
   "cell_type": "markdown",
   "id": "b03b747b-13a9-456a-999d-d448d7b7c2df",
   "metadata": {},
   "source": [
    "Por último se guarda la base de datos del CHF en formato csv y formato geojson para posteriores analisis si los requiere."
   ]
  },
  {
   "cell_type": "code",
   "execution_count": 142,
   "id": "0ffa5d18-d6c8-4c50-856a-1c4899f19e17",
   "metadata": {},
   "outputs": [],
   "source": [
    "#Guardar en formato csv\n",
    "\n",
    "CHF.to_csv(\"CHF_mod.csv\") \n",
    "\n",
    "#Guardar en formato geojson\n",
    "\n",
    "with open('CHF_mod.geojson' , 'w') as file:\n",
    "    file.write(CHF.to_json())"
   ]
  }
 ],
 "metadata": {
  "kernelspec": {
   "display_name": "Python 3 (ipykernel)",
   "language": "python",
   "name": "python3"
  },
  "language_info": {
   "codemirror_mode": {
    "name": "ipython",
    "version": 3
   },
   "file_extension": ".py",
   "mimetype": "text/x-python",
   "name": "python",
   "nbconvert_exporter": "python",
   "pygments_lexer": "ipython3",
   "version": "3.11.6"
  }
 },
 "nbformat": 4,
 "nbformat_minor": 5
}
