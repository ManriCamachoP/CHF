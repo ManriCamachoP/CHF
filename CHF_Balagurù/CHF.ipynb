{
 "cells": [
  {
   "cell_type": "markdown",
   "id": "49b1ece9",
   "metadata": {},
   "source": [
    "# Indice CHF\n",
    "\n",
    "## Introducción\n",
    "\n",
    "En este trabajo, se aborda la creación de un índice esencial para comprender la climatología de huracanes en las regiones de Costa Rica y Nicaragua: el CHF (Costal Hurricane Frequency), implementado en el articulo de Karthik Balaguru, \"Increased U.S. coastal hurricane risk under climate change\". En este estudio se emplea una base de datos de HURDAT (Hurricane Database) para obtener una estimación del CHF para las regiones previamente mencionadas. Es importante destacar que, si bien se utiliza la técnica CHF como punto de partida, se han realizado ajustes para adaptarla a las características que tiene la base de datos del HURDAT.\n",
    "\n",
    "El CHF se define como la cantidad de ubicaciones de trayectorias de huracanes que cruzan sobre tierra durante un periodo de seis horas por grado cuadrado por año. Para su cálculo, se consideran todas las ubicaciones de tormentas cuya intensidad supera un umbral específico. El cual tiene la siguiente ecuación:\n",
    "\n",
    "$$\n",
    "CHF = n\\frac{l}{TimeStep*v}\n",
    "$$\n",
    "\n",
    "En donde, $$\n",
    "n: \\textrm{es el número de trayectorias de huracanes que pasan a través de un grado cuadrado}\n",
    "$$ $$\n",
    "l: \\textrm{la longitud de la cuadrícula}\n",
    "$$\n",
    "$$\n",
    "v: \\textrm{la velocidad de traslación}\n",
    "$$\n",
    "$$\n",
    "TimeStep: \\textrm{es el paso de tiempo}\n",
    "$$\n",
    "\n",
    "## Metodología \n",
    "\n",
    "Se utilizara Python para el análisis de este cuaderno, en donde se utilizaron las siguientes librerias\n",
    "\n",
    "### Librerias\n",
    "\n",
    "-   **NumPy:** Libreria para realizar cálculos numéricos en Python. Es ampliamente utilizada para operaciones matemáticas y de manipulación de datos.\n",
    "\n",
    "-   **Pandas:** Pandas es una biblioteca que proporciona estructuras de datos y herramientas para el análisis de datos. Es especialmente útil para la manipulación y exploración de datos tabulares.\n",
    "\n",
    "-   **GeoPandas:** GeoPandas es una extensión de Pandas que agrega capacidades geoespaciales. Permite trabajar con datos geoespaciales, como GeoDataFrames, y realizar análisis espaciales.\n",
    "\n",
    "-   **OS:** El módulo `os` proporciona funciones para interactuar con el sistema operativo, como la manipulación de rutas de archivos y directorios.\n",
    "\n",
    "-   **Shapely:** Shapely es una biblioteca que se utiliza para el procesamiento y análisis de geometría plana. Permite trabajar con objetos geométricos como puntos, líneas y polígonos.\n",
    "\n",
    "-   **pyogrio:** pyogrio es una biblioteca que se utiliza para leer y escribir datos geoespaciales en formatos como GeoJSON y Shapefile. Facilita la manipulación de datos geoespaciales."
   ]
  },
  {
   "cell_type": "code",
   "execution_count": 1,
   "id": "2a922dac",
   "metadata": {},
   "outputs": [],
   "source": [
    "import numpy as np\n",
    "import pandas as pd\n",
    "import geopandas as gpd\n",
    "import os \n",
    "import shapely\n",
    "from pyogrio import read_dataframe\n",
    "from shapely.geometry import Polygon, Point"
   ]
  },
  {
   "cell_type": "markdown",
   "id": "01b052e3",
   "metadata": {},
   "source": [
    "Para la creación del indice del CHF, tal como se menciono en la introducción se utilizaron los datos del HURDAT. Dentro de estos datos hay dos bases la que contiene un intervalo de tiempo de los huracanes de 6 horas y otro de 24 horas. Cada uno teniendo su ventaja y desventaja, algunas de estas son:\n",
    "\n",
    "**Base de Datos de 6 Horas:**\n",
    "\n",
    "*Ventajas:*\n",
    "- Mayor resolución temporal: Registra datos de los huracanes cada 6 horas, lo que proporciona una visión detallada de la evolución de los fenómenos.\n",
    "- Captura cambios rápidos: Permite identificar cambios súbitos en la intensidad y trayectoria de los huracanes.\n",
    "- Alineación con la teoría de Balaguru: Esta base se ajusta mejor a la teoría que utiliza un intervalo de 6 horas para evaluar el desplazamiento de los huracanes.\n",
    "\n",
    "*Desventajas:*\n",
    "- Mayor volumen de datos: La mayor cantidad de puntos de datos puede requerir más recursos de procesamiento y almacenamiento.\n",
    "- Posibles datos redundantes: La alta frecuencia de registros podría redundar en información similar en períodos cortos de tiempo.\n",
    "\n",
    "**Base de Datos de 24 Horas:**\n",
    "\n",
    "*Ventajas:*\n",
    "- Menor volumen de datos: Contiene menos puntos de datos, lo que puede simplificar la gestión de datos y el análisis.\n",
    "- Posiblemente menos ruido: Al tener un intervalo de tiempo más amplio entre registros, es posible que haya menos variabilidad aleatoria en los datos.\n",
    "\n",
    "*Desventajas:*\n",
    "- Menor resolución temporal: Registra datos de los huracanes cada 24 horas, lo que podría no capturar cambios rápidos en la intensidad y trayectoria.\n",
    "- Pérdida de detalles: La menor frecuencia de registros podría resultar en la pérdida de información importante sobre la evolución de los huracanes.\n",
    "\n",
    "Por lo cual se opto por hacer el análisis a ambas bases de datos."
   ]
  },
  {
   "cell_type": "markdown",
   "id": "c362cedf",
   "metadata": {},
   "source": [
    "## Análsis \n",
    "\n",
    "### Base de datos \n",
    "\n",
    "Seguidamente, se procede a importar las bases de datos del HURDAT (Hurricane Database), en conjunto con los archivos de shapefiles que representan los límites geográficos de los países de Costa Rica y Nicaragua."
   ]
  },
  {
   "cell_type": "code",
   "execution_count": 2,
   "id": "fcf9e6e7",
   "metadata": {},
   "outputs": [],
   "source": [
    "hd_24 = pd.read_csv('Datos/hurdat2daily.csv')\n",
    "hd_24 =  gpd.GeoDataFrame(hd_24,\n",
    "                                geometry=gpd.points_from_xy(hd_24.Lon, hd_24.Lat), \n",
    "                                crs=\"EPSG:4326\") #Base del Hurdat con formato geoespacial"
   ]
  },
  {
   "cell_type": "code",
   "execution_count": 1,
   "id": "8c2c4e8a",
   "metadata": {},
   "outputs": [],
   "source": [
    "#hd_6 = pd.read_csv('Datos/hurdat2.txt',sep=\" \")"
   ]
  },
  {
   "cell_type": "code",
   "execution_count": 3,
   "id": "e0655d03",
   "metadata": {},
   "outputs": [],
   "source": [
    "#Importamos los paises de CR y NIC; y los concatenamos\n",
    "\n",
    "cr = read_dataframe(\"Datos/Shapefiles/CR/CR.shp\")\n",
    "nic = read_dataframe(\"Datos/Shapefiles/NIC/NIC.shp\")\n",
    "\n",
    "cr_nic = pd.concat([cr,nic]) #Concatenamos ambas bases\n",
    "cr_nic[\"Pais\"] = [\"CR\",\"NIC\"] #Designamos cual geometría le pertenece a que país"
   ]
  },
  {
   "cell_type": "markdown",
   "id": "b8cd1e7f",
   "metadata": {},
   "source": [
    "Debido al formato en el cuál se paso la información por el investigador Dr. Hugo Hidalgo no se puede importar por lo cual por el momento solo se trabajara con la del Hurdat de 24 horas."
   ]
  },
  {
   "cell_type": "markdown",
   "id": "e7bb857b",
   "metadata": {},
   "source": [
    "### Filtración y Manipulación\n",
    "\n",
    "Para esta sub seccion se filtrara la base de datos para tener un mejor entendimiento de la data, además se filtraran dos bases una que contiene todos los huracanes desde 1891 hasta 2020, mientras que la otra tendrá información más reciente, es decir desde el 2016. "
   ]
  },
  {
   "cell_type": "code",
   "execution_count": 4,
   "id": "9cda41ef",
   "metadata": {},
   "outputs": [],
   "source": [
    "hd_24[[\"year\",\"month\",\"day\"]] = hd_24[\"dat\"].str.split('-',expand=True) #Separamos la fecha\n",
    "\n",
    "hd_24.drop(columns= 'dat', inplace= True) #Eliminamos la columna que contiene la fecha agrupada\n",
    "\n",
    "hd_24 = hd_24.astype({'year':'int'})"
   ]
  },
  {
   "cell_type": "code",
   "execution_count": 5,
   "id": "7c991db2",
   "metadata": {},
   "outputs": [],
   "source": [
    "#Todos los años\n",
    "\n",
    "#minx, miny, maxx, maxy = cr_nic.total_bounds #Limites de los paises de Nicaragua y Costa Rica\n",
    "#cr_nic = hd_24[((hd_24[\"Lon\"]<= maxx)&\n",
    "                            #(hd_24[\"Lon\"]>= minx))&\n",
    "                            #((hd_24[\"Lat\"]<= maxy)&\n",
    "                            #(hd_24[\"Lat\"]>= miny))] #Delimitación de la zona"
   ]
  },
  {
   "cell_type": "code",
   "execution_count": 6,
   "id": "8401287d",
   "metadata": {},
   "outputs": [],
   "source": [
    "# Dividimos la base del Hurdat para year>2016 y year>1891\n",
    "\n",
    "hd_24_2016 = hd_24[hd_24['year']>=2016]"
   ]
  },
  {
   "cell_type": "code",
   "execution_count": 7,
   "id": "803f9d93",
   "metadata": {},
   "outputs": [],
   "source": [
    "#Años de 2016 en adelante\n",
    "\n",
    "minx, miny, maxx, maxy = cr_nic.total_bounds #Limites de los paises de Nicaragua y Costa Rica\n",
    "cr_nic_hur = hd_24_2016[((hd_24_2016[\"Lon\"]<= maxx)&\n",
    "                            (hd_24_2016[\"Lon\"]>= minx))&\n",
    "                            ((hd_24_2016[\"Lat\"]<= maxy)&\n",
    "                            (hd_24_2016[\"Lat\"]>= miny))] #Delimitación de la zona"
   ]
  },
  {
   "cell_type": "markdown",
   "id": "8a79fbf7",
   "metadata": {},
   "source": [
    "## Creación del Indicador CHF"
   ]
  },
  {
   "cell_type": "markdown",
   "id": "622939e7",
   "metadata": {},
   "source": [
    "En esta sección se trabajara con el indicadoPrimero se empieza creando las cuadriculas que sugiere el indice de Balagurú."
   ]
  },
  {
   "cell_type": "code",
   "execution_count": 8,
   "id": "107095e9",
   "metadata": {},
   "outputs": [
    {
     "data": {
      "text/plain": [
       "[<POLYGON ((-87.7 5.5, -86.7 5.5, -86.7 6.5, -87.7 6.5, -87.7 5.5))>,\n",
       " <POLYGON ((-87.7 6.5, -86.7 6.5, -86.7 7.5, -87.7 7.5, -87.7 6.5))>,\n",
       " <POLYGON ((-87.7 7.5, -86.7 7.5, -86.7 8.5, -87.7 8.5, -87.7 7.5))>,\n",
       " <POLYGON ((-87.7 8.5, -86.7 8.5, -86.7 9.5, -87.7 9.5, -87.7 8.5))>,\n",
       " <POLYGON ((-87.7 9.5, -86.7 9.5, -86.7 10.5, -87.7 10.5, -87.7 9.5))>]"
      ]
     },
     "execution_count": 8,
     "metadata": {},
     "output_type": "execute_result"
    }
   ],
   "source": [
    "grado_cuad = 1 #Grado cuadrado = metro cuadrado\n",
    "\n",
    "x_coords = np.arange(minx, maxx, grado_cuad)\n",
    "y_coords = np.arange(miny, maxy, grado_cuad)\n",
    "\n",
    "celdas = [] #Lista donde guardaremos las coordenadas de las celdas\n",
    "\n",
    "for x in x_coords:\n",
    "    for y in y_coords:\n",
    "        poligono = Polygon([(x, y), \n",
    "        (x + grado_cuad, y), \n",
    "        (x + grado_cuad, y + grado_cuad), \n",
    "        (x, y + grado_cuad)])\n",
    "        celdas.append(poligono)\n",
    "        \n",
    "celdas[:5] #Mostramos solo los primeros 5 resultados"
   ]
  },
  {
   "cell_type": "code",
   "execution_count": 10,
   "id": "ad4e53f2",
   "metadata": {},
   "outputs": [
    {
     "data": {
      "text/html": [
       "<div>\n",
       "<style scoped>\n",
       "    .dataframe tbody tr th:only-of-type {\n",
       "        vertical-align: middle;\n",
       "    }\n",
       "\n",
       "    .dataframe tbody tr th {\n",
       "        vertical-align: top;\n",
       "    }\n",
       "\n",
       "    .dataframe thead th {\n",
       "        text-align: right;\n",
       "    }\n",
       "</style>\n",
       "<table border=\"1\" class=\"dataframe\">\n",
       "  <thead>\n",
       "    <tr style=\"text-align: right;\">\n",
       "      <th></th>\n",
       "      <th>geometry</th>\n",
       "      <th>frecuencia_h</th>\n",
       "      <th>velocidad_promedio</th>\n",
       "      <th>Indicador_CHF</th>\n",
       "    </tr>\n",
       "  </thead>\n",
       "  <tbody>\n",
       "    <tr>\n",
       "      <th>17</th>\n",
       "      <td>POLYGON ((-86.69097 12.49903, -85.69097 12.499...</td>\n",
       "      <td>1</td>\n",
       "      <td>52.00</td>\n",
       "      <td>0.013158</td>\n",
       "    </tr>\n",
       "    <tr>\n",
       "      <th>28</th>\n",
       "      <td>POLYGON ((-85.69097 13.49903, -84.69097 13.499...</td>\n",
       "      <td>2</td>\n",
       "      <td>58.75</td>\n",
       "      <td>0.024169</td>\n",
       "    </tr>\n",
       "    <tr>\n",
       "      <th>35</th>\n",
       "      <td>POLYGON ((-84.69097 10.49903, -83.69097 10.499...</td>\n",
       "      <td>1</td>\n",
       "      <td>85.00</td>\n",
       "      <td>0.009174</td>\n",
       "    </tr>\n",
       "    <tr>\n",
       "      <th>39</th>\n",
       "      <td>POLYGON ((-84.69097 14.49903, -83.69097 14.499...</td>\n",
       "      <td>1</td>\n",
       "      <td>36.20</td>\n",
       "      <td>0.016611</td>\n",
       "    </tr>\n",
       "    <tr>\n",
       "      <th>45</th>\n",
       "      <td>POLYGON ((-83.69097 10.49903, -82.69097 10.499...</td>\n",
       "      <td>1</td>\n",
       "      <td>43.00</td>\n",
       "      <td>0.014925</td>\n",
       "    </tr>\n",
       "  </tbody>\n",
       "</table>\n",
       "</div>"
      ],
      "text/plain": [
       "                                             geometry  frecuencia_h  \\\n",
       "17  POLYGON ((-86.69097 12.49903, -85.69097 12.499...             1   \n",
       "28  POLYGON ((-85.69097 13.49903, -84.69097 13.499...             2   \n",
       "35  POLYGON ((-84.69097 10.49903, -83.69097 10.499...             1   \n",
       "39  POLYGON ((-84.69097 14.49903, -83.69097 14.499...             1   \n",
       "45  POLYGON ((-83.69097 10.49903, -82.69097 10.499...             1   \n",
       "\n",
       "    velocidad_promedio  Indicador_CHF  \n",
       "17               52.00       0.013158  \n",
       "28               58.75       0.024169  \n",
       "35               85.00       0.009174  \n",
       "39               36.20       0.016611  \n",
       "45               43.00       0.014925  "
      ]
     },
     "execution_count": 10,
     "metadata": {},
     "output_type": "execute_result"
    }
   ],
   "source": [
    "grid_gdf = gpd.GeoDataFrame({'geometry': celdas}, crs=cr_nic.crs)\n",
    "\n",
    "# Calcular la frecuencia de huracanes en cada cuadrícula\n",
    "grid_gdf['frecuencia_h'] = grid_gdf['geometry'].apply(lambda geom: len(cr_nic_hur[cr_nic_hur.within(geom)]))\n",
    "\n",
    "# Calcular el promedio de velocidad de huracanes en cada cuadrícula\n",
    "grid_gdf['velocidad_promedio'] = grid_gdf['geometry'].apply(lambda geom: cr_nic_hur[cr_nic_hur.within(geom)]['MaxW'].mean())\n",
    "\n",
    "# Sumar el promedio de velocidad a la frecuencia en un nuevo campo\n",
    "grid_gdf['Indicador_CHF'] = grid_gdf['frecuencia_h']/(grid_gdf['velocidad_promedio']+24)\n",
    "\n",
    "grid_gdf[grid_gdf[\"frecuencia_h\"]>0].head()"
   ]
  },
  {
   "cell_type": "code",
   "execution_count": 11,
   "id": "a6fcf1f2",
   "metadata": {},
   "outputs": [],
   "source": [
    "documento = 'Indice_CHF.geojson'\n",
    "with open(documento , 'w') as file:\n",
    "    file.write(grid_gdf.to_json())"
   ]
  },
  {
   "cell_type": "code",
   "execution_count": 13,
   "id": "c9eeba22",
   "metadata": {},
   "outputs": [],
   "source": [
    "documento = 'Huracanes_CR_NIC.geojson'\n",
    "with open(documento , 'w') as file:\n",
    "    file.write(cr_nic_hur.to_json())"
   ]
  },
  {
   "cell_type": "code",
   "execution_count": 14,
   "id": "fec603cb",
   "metadata": {},
   "outputs": [],
   "source": [
    "documento = 'CR_NIC.geojson'\n",
    "with open(documento , 'w') as file:\n",
    "    file.write(cr_nic.to_json())"
   ]
  },
  {
   "cell_type": "markdown",
   "id": "71941ec6",
   "metadata": {},
   "source": []
  }
 ],
 "metadata": {
  "kernelspec": {
   "display_name": "Python 3 (ipykernel)",
   "language": "python",
   "name": "python3"
  },
  "language_info": {
   "codemirror_mode": {
    "name": "ipython",
    "version": 3
   },
   "file_extension": ".py",
   "mimetype": "text/x-python",
   "name": "python",
   "nbconvert_exporter": "python",
   "pygments_lexer": "ipython3",
   "version": "3.11.6"
  }
 },
 "nbformat": 4,
 "nbformat_minor": 5
}
